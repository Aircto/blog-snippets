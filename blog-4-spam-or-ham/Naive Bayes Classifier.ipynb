{
 "cells": [
  {
   "cell_type": "markdown",
   "metadata": {
    "deletable": true,
    "editable": true
   },
   "source": [
    "# Naive Bayes Classifier"
   ]
  },
  {
   "cell_type": "markdown",
   "metadata": {
    "deletable": true,
    "editable": true
   },
   "source": [
    "We will use <b>`sklearn.naive_bayes`</b> to train a spam Classifier."
   ]
  },
  {
   "cell_type": "code",
   "execution_count": 2,
   "metadata": {
    "collapsed": true,
    "deletable": true,
    "editable": true
   },
   "outputs": [],
   "source": [
    "# Internal Imports\n",
    "import os\n",
    "import io\n",
    "\n",
    "# External Imports\n",
    "import numpy\n",
    "from pandas import DataFrame\n",
    "from sklearn.feature_extraction.text import CountVectorizer\n",
    "from sklearn.naive_bayes import MultinomialNB"
   ]
  },
  {
   "cell_type": "code",
   "execution_count": 3,
   "metadata": {
    "collapsed": true,
    "deletable": true,
    "editable": true
   },
   "outputs": [],
   "source": [
    "def readFiles(path):\n",
    "    for root, dirnames, filenames in os.walk(path):\n",
    "        for filename in filenames:\n",
    "            path = os.path.join(root, filename)\n",
    "\n",
    "            inBody = False\n",
    "            lines = []\n",
    "            f = io.open(path, 'r', encoding='latin1')\n",
    "            for line in f:\n",
    "                if inBody:\n",
    "                    lines.append(line)\n",
    "                elif line == '\\n':\n",
    "                    inBody = True\n",
    "            f.close()\n",
    "            message = '\\n'.join(lines)\n",
    "            yield path, message"
   ]
  },
  {
   "cell_type": "code",
   "execution_count": 4,
   "metadata": {
    "collapsed": true,
    "deletable": true,
    "editable": true
   },
   "outputs": [],
   "source": [
    "def dataFrameFromDirectory(path, classification):\n",
    "    \"\"\"\n",
    "    Create DataFrames from the files present in the Directory\n",
    "    given as \"path\" argument.\n",
    "    \"\"\"\n",
    "    rows = []\n",
    "    index = []\n",
    "    for filename, message in readFiles(path):\n",
    "        rows.append({'message': message, 'class': classification})\n",
    "        index.append(filename)\n",
    "\n",
    "    return DataFrame(rows, index=index)\n",
    "\n",
    "data = DataFrame({'message': [], 'class': []})\n",
    "\n",
    "data = data.append(dataFrameFromDirectory('emails/spam', 'spam'))\n",
    "data = data.append(dataFrameFromDirectory('emails/ham', 'ham'))"
   ]
  },
  {
   "cell_type": "code",
   "execution_count": 5,
   "metadata": {
    "collapsed": false,
    "deletable": true,
    "editable": true
   },
   "outputs": [
    {
     "data": {
      "text/html": [
       "<div>\n",
       "<table border=\"1\" class=\"dataframe\">\n",
       "  <thead>\n",
       "    <tr style=\"text-align: right;\">\n",
       "      <th></th>\n",
       "      <th>class</th>\n",
       "      <th>message</th>\n",
       "    </tr>\n",
       "  </thead>\n",
       "  <tbody>\n",
       "    <tr>\n",
       "      <th>emails/spam/00119.7bd666ac52f079fb3b5ff0be83b55286</th>\n",
       "      <td>spam</td>\n",
       "      <td>\\n\\n&lt;html&gt;&lt;body&gt;&lt;pre&gt;\\n\\n\\n\\n_________________...</td>\n",
       "    </tr>\n",
       "    <tr>\n",
       "      <th>emails/spam/00294.df27a988d82cc82296e33e6d727ac47e</th>\n",
       "      <td>spam</td>\n",
       "      <td>Get your favorite Poker action at http://www.m...</td>\n",
       "    </tr>\n",
       "    <tr>\n",
       "      <th>emails/spam/00059.dc5b9ea22c6848c97871f0d9576cc931</th>\n",
       "      <td>spam</td>\n",
       "      <td>&lt;HTML&gt;&lt;P ALIGN=CENTER&gt;&lt;font ptsize=\"14\" family...</td>\n",
       "    </tr>\n",
       "    <tr>\n",
       "      <th>emails/spam/00444.33afc8c1f9cea3100ca8502e8a785259</th>\n",
       "      <td>spam</td>\n",
       "      <td>=============================================\\...</td>\n",
       "    </tr>\n",
       "    <tr>\n",
       "      <th>emails/spam/00110.f3c4ebe14b439420b53212332326181f</th>\n",
       "      <td>spam</td>\n",
       "      <td>Wanna see sexually curious teens playing with ...</td>\n",
       "    </tr>\n",
       "  </tbody>\n",
       "</table>\n",
       "</div>"
      ],
      "text/plain": [
       "                                                   class  \\\n",
       "emails/spam/00119.7bd666ac52f079fb3b5ff0be83b55286  spam   \n",
       "emails/spam/00294.df27a988d82cc82296e33e6d727ac47e  spam   \n",
       "emails/spam/00059.dc5b9ea22c6848c97871f0d9576cc931  spam   \n",
       "emails/spam/00444.33afc8c1f9cea3100ca8502e8a785259  spam   \n",
       "emails/spam/00110.f3c4ebe14b439420b53212332326181f  spam   \n",
       "\n",
       "                                                                                              message  \n",
       "emails/spam/00119.7bd666ac52f079fb3b5ff0be83b55286  \\n\\n<html><body><pre>\\n\\n\\n\\n_________________...  \n",
       "emails/spam/00294.df27a988d82cc82296e33e6d727ac47e  Get your favorite Poker action at http://www.m...  \n",
       "emails/spam/00059.dc5b9ea22c6848c97871f0d9576cc931  <HTML><P ALIGN=CENTER><font ptsize=\"14\" family...  \n",
       "emails/spam/00444.33afc8c1f9cea3100ca8502e8a785259  =============================================\\...  \n",
       "emails/spam/00110.f3c4ebe14b439420b53212332326181f  Wanna see sexually curious teens playing with ...  "
      ]
     },
     "execution_count": 5,
     "metadata": {},
     "output_type": "execute_result"
    }
   ],
   "source": [
    "data.head()"
   ]
  },
  {
   "cell_type": "markdown",
   "metadata": {
    "deletable": true,
    "editable": true
   },
   "source": [
    "Now, we will use a <b>`CountVectorizer`</b> to split up each message into its list of words, and throw the output into a <b>`MultinomialNB`</b>. Call <b>`fit()`</b> and we've got a trained spam filter ready !"
   ]
  },
  {
   "cell_type": "code",
   "execution_count": 6,
   "metadata": {
    "collapsed": false,
    "deletable": true,
    "editable": true
   },
   "outputs": [
    {
     "data": {
      "text/plain": [
       "MultinomialNB(alpha=1.0, class_prior=None, fit_prior=True)"
      ]
     },
     "execution_count": 6,
     "metadata": {},
     "output_type": "execute_result"
    }
   ],
   "source": [
    "vectorizer = CountVectorizer()\n",
    "counts = vectorizer.fit_transform(data['message'].values)\n",
    "\n",
    "classifier = MultinomialNB()\n",
    "targets = data['class'].values\n",
    "classifier.fit(counts, targets)"
   ]
  },
  {
   "cell_type": "code",
   "execution_count": 7,
   "metadata": {
    "collapsed": false,
    "deletable": true,
    "editable": true
   },
   "outputs": [
    {
     "data": {
      "text/plain": [
       "MultinomialNB(alpha=1.0, class_prior=None, fit_prior=True)"
      ]
     },
     "execution_count": 7,
     "metadata": {},
     "output_type": "execute_result"
    }
   ],
   "source": [
    "MultinomialNB(alpha=1.0, class_prior=None, fit_prior=True)"
   ]
  },
  {
   "cell_type": "code",
   "execution_count": 8,
   "metadata": {
    "collapsed": false,
    "deletable": true,
    "editable": true,
    "scrolled": true
   },
   "outputs": [
    {
     "data": {
      "text/plain": [
       "array(['spam', 'ham'], \n",
       "      dtype='<U4')"
      ]
     },
     "execution_count": 8,
     "metadata": {},
     "output_type": "execute_result"
    }
   ],
   "source": [
    "examples = ['Free Gifts now!!!', \"Hi John, How about a game of basketball tomorrow?\"]\n",
    "example_counts = vectorizer.transform(examples)\n",
    "predictions = classifier.predict(example_counts)\n",
    "predictions"
   ]
  },
  {
   "cell_type": "markdown",
   "metadata": {
    "deletable": true,
    "editable": true
   },
   "source": [
    "We passed a list of strings(examples, one of which is Spam and other is Ham) as an argument to tranform method because we need to convert the messages into the same format on which we trained our model. \"vectorizer.transform\" will convert these messages into a list of words and their frequenices where the words are represented by positions in an array.\n",
    "\n",
    "After we did this tranformation, We can actually use the predict fundtion on the classifier on the array which contains list of words."
   ]
  }
 ],
 "metadata": {
  "kernelspec": {
   "display_name": "Python 3",
   "language": "python",
   "name": "machinelearning-kernel"
  },
  "language_info": {
   "codemirror_mode": {
    "name": "ipython",
    "version": 3
   },
   "file_extension": ".py",
   "mimetype": "text/x-python",
   "name": "python",
   "nbconvert_exporter": "python",
   "pygments_lexer": "ipython3",
   "version": "3.6.0"
  }
 },
 "nbformat": 4,
 "nbformat_minor": 2
}
